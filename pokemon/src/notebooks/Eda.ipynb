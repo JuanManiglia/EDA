{
 "cells": [
  {
   "cell_type": "markdown",
   "metadata": {},
   "source": [
    "# <a id='0'>EDA POKÉMON</h1>\n",
    "![Pokémon](../utils/img/img12.jpg)"
   ]
  },
  {
   "cell_type": "markdown",
   "metadata": {},
   "source": [
    "- ## <a href='#1'>1. Introducción</a> \n",
    "\n",
    "<b></b>\n",
    "- ##  <a href='#2'>2. Analisis Exploratio de Datos (EDA)</a>\n",
    "    <b></b>\n",
    "    - ##  <a href='#21'>2.1. Hipotesis</a>\n",
    "    - ##  <a href='#22'>2.2. Librerias</a>\n",
    "    - ##  <a href='#23'>2.3. Limpieza de Datos</a>\n",
    "    - ##  <a href='#24'>2.4. Analisis de Datos</a>\n",
    "\n",
    "<b></b>\n",
    "- ##  <a href='#3'>3. Visualizacion de Datos</a>\n",
    "\n",
    "<b></b>\n",
    "- ##  <a href='#4'>4. Conclusiones</a>"
   ]
  },
  {
   "cell_type": "markdown",
   "metadata": {},
   "source": [
    "# <a id='1'>1. Introduccion</a>"
   ]
  },
  {
   "cell_type": "markdown",
   "metadata": {},
   "source": [
    "### Pokémon\n",
    "\n",
    "En este proyecto se realizará un análisis exploratorio de datos para poder responder las hipótesis planteadas.\n",
    "\n",
    "El objetivo principal es crear una guia para realizar un EDA desde cero, y especificamente aplicar algunas técnicas de limpieza y visualización.\n",
    "\n",
    "Para lograrlo, los datos deben ser no solo limpios, sino también ordenados y coherentes.\n",
    "\n",
    "\n",
    "### Si necesita contactarme:\n",
    "* Email: ***jamr1989@gmail.com***\n",
    "* Linkedin: ***https://www.linkedin.com/in/JuanManiglia***\n",
    "\n",
    "#### Check mis repos en Github: ***https://github.com/JuanManiglia***\n",
    "#### Lee mis artículos en Medium: ***https://medium.com/@juanmaniglia1989***"
   ]
  },
  {
   "cell_type": "markdown",
   "metadata": {},
   "source": [
    "# <a id='2'>2. Analisis Exploratio de Datos (EDA)</a>"
   ]
  },
  {
   "cell_type": "markdown",
   "metadata": {},
   "source": [
    "##  <a id='21'>2.1. Hipotesis</a>"
   ]
  },
  {
   "cell_type": "markdown",
   "metadata": {},
   "source": [
    "Lo primero que tendríamos que hacer es plantearnos las hipótesis.\n",
    "\n",
    "- Cuál es el Pokémon más poderoso que existe\n",
    "- Qué generación tiene los Pokémon más poderosos\n",
    "- Cuál es tipo de más común\n",
    "- Cuál es el Pokémon más grande y el más pequeño, el tipo tendría relación con el tamaño?"
   ]
  },
  {
   "cell_type": "markdown",
   "metadata": {},
   "source": [
    "##  <a id='22'>2.2. Librerias</a>"
   ]
  },
  {
   "cell_type": "code",
   "execution_count": 3,
   "metadata": {},
   "outputs": [],
   "source": [
    "import os\n",
    "import sys\n",
    "\n",
    "sys.path.insert(0, os.path.abspath('..'))\n",
    "os.chdir(os.path.dirname(sys.path[0])) # Este comando hace que el notebook sea la ruta principal y poder trabajar en cascada\n",
    "os.getcwd()\n",
    "from utils.libreria import *\n",
    "from utils.funciones import *"
   ]
  },
  {
   "cell_type": "markdown",
   "metadata": {},
   "source": [
    "##  <a href='23'>2.3. Limpieza de Datos</a>"
   ]
  },
  {
   "cell_type": "markdown",
   "metadata": {},
   "source": [
    "Importamos el dataset"
   ]
  },
  {
   "cell_type": "code",
   "execution_count": 4,
   "metadata": {},
   "outputs": [
    {
     "data": {
      "text/html": [
       "<div>\n",
       "<style scoped>\n",
       "    .dataframe tbody tr th:only-of-type {\n",
       "        vertical-align: middle;\n",
       "    }\n",
       "\n",
       "    .dataframe tbody tr th {\n",
       "        vertical-align: top;\n",
       "    }\n",
       "\n",
       "    .dataframe thead th {\n",
       "        text-align: right;\n",
       "    }\n",
       "</style>\n",
       "<table border=\"1\" class=\"dataframe\">\n",
       "  <thead>\n",
       "    <tr style=\"text-align: right;\">\n",
       "      <th></th>\n",
       "      <th>nombre</th>\n",
       "      <th>generacion</th>\n",
       "      <th>peso</th>\n",
       "      <th>altura</th>\n",
       "      <th>tipo1</th>\n",
       "      <th>tipo2</th>\n",
       "      <th>hp</th>\n",
       "      <th>attack</th>\n",
       "      <th>defense</th>\n",
       "      <th>speed</th>\n",
       "      <th>s_attack</th>\n",
       "      <th>s_defense</th>\n",
       "    </tr>\n",
       "    <tr>\n",
       "      <th>id</th>\n",
       "      <th></th>\n",
       "      <th></th>\n",
       "      <th></th>\n",
       "      <th></th>\n",
       "      <th></th>\n",
       "      <th></th>\n",
       "      <th></th>\n",
       "      <th></th>\n",
       "      <th></th>\n",
       "      <th></th>\n",
       "      <th></th>\n",
       "      <th></th>\n",
       "    </tr>\n",
       "  </thead>\n",
       "  <tbody>\n",
       "    <tr>\n",
       "      <th>1</th>\n",
       "      <td>bulbasaur</td>\n",
       "      <td>1</td>\n",
       "      <td>69</td>\n",
       "      <td>7</td>\n",
       "      <td>grass</td>\n",
       "      <td>poison</td>\n",
       "      <td>45</td>\n",
       "      <td>49</td>\n",
       "      <td>49</td>\n",
       "      <td>45</td>\n",
       "      <td>65</td>\n",
       "      <td>65</td>\n",
       "    </tr>\n",
       "    <tr>\n",
       "      <th>2</th>\n",
       "      <td>ivysaur</td>\n",
       "      <td>1</td>\n",
       "      <td>130</td>\n",
       "      <td>10</td>\n",
       "      <td>grass</td>\n",
       "      <td>poison</td>\n",
       "      <td>60</td>\n",
       "      <td>62</td>\n",
       "      <td>63</td>\n",
       "      <td>60</td>\n",
       "      <td>80</td>\n",
       "      <td>80</td>\n",
       "    </tr>\n",
       "    <tr>\n",
       "      <th>3</th>\n",
       "      <td>venusaur</td>\n",
       "      <td>1</td>\n",
       "      <td>1000</td>\n",
       "      <td>20</td>\n",
       "      <td>grass</td>\n",
       "      <td>poison</td>\n",
       "      <td>80</td>\n",
       "      <td>82</td>\n",
       "      <td>83</td>\n",
       "      <td>80</td>\n",
       "      <td>100</td>\n",
       "      <td>100</td>\n",
       "    </tr>\n",
       "    <tr>\n",
       "      <th>4</th>\n",
       "      <td>charmander</td>\n",
       "      <td>1</td>\n",
       "      <td>85</td>\n",
       "      <td>6</td>\n",
       "      <td>fire</td>\n",
       "      <td>None</td>\n",
       "      <td>39</td>\n",
       "      <td>52</td>\n",
       "      <td>43</td>\n",
       "      <td>65</td>\n",
       "      <td>60</td>\n",
       "      <td>50</td>\n",
       "    </tr>\n",
       "    <tr>\n",
       "      <th>5</th>\n",
       "      <td>charmeleon</td>\n",
       "      <td>1</td>\n",
       "      <td>190</td>\n",
       "      <td>11</td>\n",
       "      <td>fire</td>\n",
       "      <td>None</td>\n",
       "      <td>58</td>\n",
       "      <td>64</td>\n",
       "      <td>58</td>\n",
       "      <td>80</td>\n",
       "      <td>80</td>\n",
       "      <td>65</td>\n",
       "    </tr>\n",
       "  </tbody>\n",
       "</table>\n",
       "</div>"
      ],
      "text/plain": [
       "        nombre  generacion  peso  altura  tipo1   tipo2  hp  attack  defense  \\\n",
       "id                                                                             \n",
       "1    bulbasaur           1    69       7  grass  poison  45      49       49   \n",
       "2      ivysaur           1   130      10  grass  poison  60      62       63   \n",
       "3     venusaur           1  1000      20  grass  poison  80      82       83   \n",
       "4   charmander           1    85       6   fire    None  39      52       43   \n",
       "5   charmeleon           1   190      11   fire    None  58      64       58   \n",
       "\n",
       "    speed  s_attack  s_defense  \n",
       "id                              \n",
       "1      45        65         65  \n",
       "2      60        80         80  \n",
       "3      80       100        100  \n",
       "4      65        60         50  \n",
       "5      80        80         65  "
      ]
     },
     "execution_count": 4,
     "metadata": {},
     "output_type": "execute_result"
    }
   ],
   "source": [
    "import pandas as pd\n",
    "pokemon = pd.read_pickle('data/processed/pokemon.pkl')\n",
    "pokemon.head()"
   ]
  }
 ],
 "metadata": {
  "interpreter": {
   "hash": "16d56b22d9d1a1a2483de6e72899c85476d243b94fedfce5c2d990baefa01dec"
  },
  "kernelspec": {
   "display_name": "Python 3.9.12 ('eda')",
   "language": "python",
   "name": "python3"
  },
  "language_info": {
   "codemirror_mode": {
    "name": "ipython",
    "version": 3
   },
   "file_extension": ".py",
   "mimetype": "text/x-python",
   "name": "python",
   "nbconvert_exporter": "python",
   "pygments_lexer": "ipython3",
   "version": "3.9.12"
  },
  "orig_nbformat": 4
 },
 "nbformat": 4,
 "nbformat_minor": 2
}
