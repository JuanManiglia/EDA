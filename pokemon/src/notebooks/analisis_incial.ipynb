{
 "cells": [
  {
   "cell_type": "markdown",
   "metadata": {},
   "source": [
    "# <a id='0'>EDA POKÉMON</h1>\n",
    "![Pokémon](../utils/img/img12.jpg)"
   ]
  },
  {
   "cell_type": "markdown",
   "metadata": {},
   "source": [
    "- ##  <a href='#1'>1. Analisis Exploratio de Datos (EDA)</a>\n",
    "    <b></b>\n",
    "    - ##  <a href='#11'>1.1. Hipotesis</a>\n",
    "    - ##  <a href='#12'>1.2. Librerias</a>\n",
    "    - ##  <a href='#13'>1.3. Obtener Datos</a>\n",
    "<b></b>\n",
    "- ##  <a href='#2'>2. Conclusiones</a>"
   ]
  },
  {
   "cell_type": "markdown",
   "metadata": {},
   "source": [
    "### Si necesita contactarme:\n",
    "* Email: ***jamr1989@gmail.com***\n",
    "* Linkedin: ***https://www.linkedin.com/in/JuanManiglia***\n",
    "\n",
    "#### Check mis repos en Github: ***https://github.com/JuanManiglia***\n",
    "#### Lee mis artículos en Medium: ***https://medium.com/@juanmaniglia1989***"
   ]
  },
  {
   "cell_type": "markdown",
   "metadata": {},
   "source": [
    "# <a id='1'>1. Analisis Exploratio de Datos (EDA)</a>"
   ]
  },
  {
   "cell_type": "markdown",
   "metadata": {},
   "source": [
    "##  <a id='11'>1.1. Hipotesis</a>"
   ]
  },
  {
   "cell_type": "markdown",
   "metadata": {},
   "source": [
    "Lo primero que tendríamos que hacer es plantearnos las hipótesis.\n",
    "\n",
    "- Cuál es el Pokémon más poderoso que existe\n",
    "- Qué generación tiene los Pokémon más poderosos\n",
    "- Cuál es tipo de más común\n",
    "- Cuál es el Pokémon más grande y el más pequeño, el tipo tendría relación con el tamaño?"
   ]
  },
  {
   "cell_type": "markdown",
   "metadata": {},
   "source": [
    "##  <a id='12'>1.2. Librerias</a>"
   ]
  },
  {
   "cell_type": "code",
   "execution_count": 2,
   "metadata": {},
   "outputs": [],
   "source": [
    "import os\n",
    "import sys\n",
    "import requests\n",
    "import json\n",
    "os.chdir(os.path.dirname(sys.path[0])) # Este comando hace que el notebook sea la ruta principal y poder trabajar en cascada\n",
    "from utils.funciones import Api\n",
    "from utils.libreria import *\n",
    "from pandas_profiling import ProfileReport"
   ]
  },
  {
   "cell_type": "markdown",
   "metadata": {},
   "source": [
    "##  <a id='13'>1.3. Obtener Datos</a>"
   ]
  },
  {
   "cell_type": "markdown",
   "metadata": {},
   "source": [
    "Vamos a utilizar la [API](https://pokeapi.co/docs/v2#pokemon) de Pokémon para obtener los datos que vamos a utilizar"
   ]
  },
  {
   "cell_type": "markdown",
   "metadata": {},
   "source": [
    "En la api según la documentación debemos utilizar la url **pokeapi.co/api/v2/pokemon/?limit=number** para obtener todos los Pokémons, y aqui es donde empieza el trabajo del analista de datos, debemos aplicar los conocimientos de negocios o si un tema nuevo investigar, en este caso debemos averiguar [cuantos pokemons](https://noticiast.com/cuantos-pokemon-hay-en-total-en-2021/#:~:text=Actualmente%20hay%20898%20Pok%C3%A9mon%20a,aumentando%20como%20lo%20ha%20hecho)"
   ]
  },
  {
   "cell_type": "code",
   "execution_count": 3,
   "metadata": {},
   "outputs": [],
   "source": [
    "lista_pokemon = list()\n",
    "\n",
    "for i in range(1,899): # recordando que el range va desde el el a hasta el b-1, entonces se coloca hasta el ultimo +1\n",
    "\n",
    "    url = f\"https://pokeapi.co/api/v2/pokemon/{i}\"\n",
    "    res = requests.get(url)\n",
    "    data=res.json()\n",
    "\n",
    "    id = data['id']\n",
    "    altura = data['height']\n",
    "    nombre = data['name']\n",
    "    generacion = Api.generacion_(i)\n",
    "    peso = data['weight']\n",
    "    tipo1 = data['types'][0]['type']['name']\n",
    "    try:\n",
    "        tipo2 = data['types'][1]['type']['name']\n",
    "    except:\n",
    "        tipo2 = None\n",
    "    hp = data['stats'][0]['base_stat']\n",
    "    attack = data['stats'][1]['base_stat']\n",
    "    defense = data['stats'][2]['base_stat']\n",
    "    special_attack = data['stats'][3]['base_stat']\n",
    "    special_defense = data['stats'][4]['base_stat']\n",
    "    speed = data['stats'][5]['base_stat']\n",
    "    \n",
    "    my_dict = {'id': id,\n",
    "            'nombre': nombre,\n",
    "            'generacion': generacion,\n",
    "            'peso':peso,\n",
    "            'altura':altura,\n",
    "            'tipo1':tipo1,\n",
    "            'tipo2':tipo2,\n",
    "            'hp':hp,\n",
    "            'attack':attack,\n",
    "            'defense':defense,\n",
    "            'speed':speed,\n",
    "            's_attack':special_attack,\n",
    "            's_defense':special_defense }\n",
    "\n",
    "    lista_pokemon.append(my_dict)"
   ]
  },
  {
   "cell_type": "code",
   "execution_count": 4,
   "metadata": {},
   "outputs": [
    {
     "data": {
      "text/html": [
       "<div>\n",
       "<style scoped>\n",
       "    .dataframe tbody tr th:only-of-type {\n",
       "        vertical-align: middle;\n",
       "    }\n",
       "\n",
       "    .dataframe tbody tr th {\n",
       "        vertical-align: top;\n",
       "    }\n",
       "\n",
       "    .dataframe thead th {\n",
       "        text-align: right;\n",
       "    }\n",
       "</style>\n",
       "<table border=\"1\" class=\"dataframe\">\n",
       "  <thead>\n",
       "    <tr style=\"text-align: right;\">\n",
       "      <th></th>\n",
       "      <th>nombre</th>\n",
       "      <th>generacion</th>\n",
       "      <th>peso</th>\n",
       "      <th>altura</th>\n",
       "      <th>tipo1</th>\n",
       "      <th>tipo2</th>\n",
       "      <th>hp</th>\n",
       "      <th>attack</th>\n",
       "      <th>defense</th>\n",
       "      <th>speed</th>\n",
       "      <th>s_attack</th>\n",
       "      <th>s_defense</th>\n",
       "    </tr>\n",
       "    <tr>\n",
       "      <th>id</th>\n",
       "      <th></th>\n",
       "      <th></th>\n",
       "      <th></th>\n",
       "      <th></th>\n",
       "      <th></th>\n",
       "      <th></th>\n",
       "      <th></th>\n",
       "      <th></th>\n",
       "      <th></th>\n",
       "      <th></th>\n",
       "      <th></th>\n",
       "      <th></th>\n",
       "    </tr>\n",
       "  </thead>\n",
       "  <tbody>\n",
       "    <tr>\n",
       "      <th>1</th>\n",
       "      <td>bulbasaur</td>\n",
       "      <td>1</td>\n",
       "      <td>69</td>\n",
       "      <td>7</td>\n",
       "      <td>grass</td>\n",
       "      <td>poison</td>\n",
       "      <td>45</td>\n",
       "      <td>49</td>\n",
       "      <td>49</td>\n",
       "      <td>45</td>\n",
       "      <td>65</td>\n",
       "      <td>65</td>\n",
       "    </tr>\n",
       "    <tr>\n",
       "      <th>2</th>\n",
       "      <td>ivysaur</td>\n",
       "      <td>1</td>\n",
       "      <td>130</td>\n",
       "      <td>10</td>\n",
       "      <td>grass</td>\n",
       "      <td>poison</td>\n",
       "      <td>60</td>\n",
       "      <td>62</td>\n",
       "      <td>63</td>\n",
       "      <td>60</td>\n",
       "      <td>80</td>\n",
       "      <td>80</td>\n",
       "    </tr>\n",
       "    <tr>\n",
       "      <th>3</th>\n",
       "      <td>venusaur</td>\n",
       "      <td>1</td>\n",
       "      <td>1000</td>\n",
       "      <td>20</td>\n",
       "      <td>grass</td>\n",
       "      <td>poison</td>\n",
       "      <td>80</td>\n",
       "      <td>82</td>\n",
       "      <td>83</td>\n",
       "      <td>80</td>\n",
       "      <td>100</td>\n",
       "      <td>100</td>\n",
       "    </tr>\n",
       "    <tr>\n",
       "      <th>4</th>\n",
       "      <td>charmander</td>\n",
       "      <td>1</td>\n",
       "      <td>85</td>\n",
       "      <td>6</td>\n",
       "      <td>fire</td>\n",
       "      <td>None</td>\n",
       "      <td>39</td>\n",
       "      <td>52</td>\n",
       "      <td>43</td>\n",
       "      <td>65</td>\n",
       "      <td>60</td>\n",
       "      <td>50</td>\n",
       "    </tr>\n",
       "    <tr>\n",
       "      <th>5</th>\n",
       "      <td>charmeleon</td>\n",
       "      <td>1</td>\n",
       "      <td>190</td>\n",
       "      <td>11</td>\n",
       "      <td>fire</td>\n",
       "      <td>None</td>\n",
       "      <td>58</td>\n",
       "      <td>64</td>\n",
       "      <td>58</td>\n",
       "      <td>80</td>\n",
       "      <td>80</td>\n",
       "      <td>65</td>\n",
       "    </tr>\n",
       "  </tbody>\n",
       "</table>\n",
       "</div>"
      ],
      "text/plain": [
       "        nombre  generacion  peso  altura  tipo1   tipo2  hp  attack  defense  \\\n",
       "id                                                                             \n",
       "1    bulbasaur           1    69       7  grass  poison  45      49       49   \n",
       "2      ivysaur           1   130      10  grass  poison  60      62       63   \n",
       "3     venusaur           1  1000      20  grass  poison  80      82       83   \n",
       "4   charmander           1    85       6   fire    None  39      52       43   \n",
       "5   charmeleon           1   190      11   fire    None  58      64       58   \n",
       "\n",
       "    speed  s_attack  s_defense  \n",
       "id                              \n",
       "1      45        65         65  \n",
       "2      60        80         80  \n",
       "3      80       100        100  \n",
       "4      65        60         50  \n",
       "5      80        80         65  "
      ]
     },
     "execution_count": 4,
     "metadata": {},
     "output_type": "execute_result"
    }
   ],
   "source": [
    "pokemon = pd.DataFrame(lista_pokemon)\n",
    "pokemon.set_index('id',inplace=True)\n",
    "pokemon.head()"
   ]
  },
  {
   "cell_type": "code",
   "execution_count": 5,
   "metadata": {},
   "outputs": [
    {
     "name": "stdout",
     "output_type": "stream",
     "text": [
      "<class 'pandas.core.frame.DataFrame'>\n",
      "Int64Index: 898 entries, 1 to 898\n",
      "Data columns (total 12 columns):\n",
      " #   Column      Non-Null Count  Dtype \n",
      "---  ------      --------------  ----- \n",
      " 0   nombre      898 non-null    object\n",
      " 1   generacion  898 non-null    int64 \n",
      " 2   peso        898 non-null    int64 \n",
      " 3   altura      898 non-null    int64 \n",
      " 4   tipo1       898 non-null    object\n",
      " 5   tipo2       442 non-null    object\n",
      " 6   hp          898 non-null    int64 \n",
      " 7   attack      898 non-null    int64 \n",
      " 8   defense     898 non-null    int64 \n",
      " 9   speed       898 non-null    int64 \n",
      " 10  s_attack    898 non-null    int64 \n",
      " 11  s_defense   898 non-null    int64 \n",
      "dtypes: int64(9), object(3)\n",
      "memory usage: 91.2+ KB\n"
     ]
    }
   ],
   "source": [
    "pokemon.info()"
   ]
  },
  {
   "cell_type": "code",
   "execution_count": 6,
   "metadata": {},
   "outputs": [
    {
     "data": {
      "text/html": [
       "<div>\n",
       "<style scoped>\n",
       "    .dataframe tbody tr th:only-of-type {\n",
       "        vertical-align: middle;\n",
       "    }\n",
       "\n",
       "    .dataframe tbody tr th {\n",
       "        vertical-align: top;\n",
       "    }\n",
       "\n",
       "    .dataframe thead th {\n",
       "        text-align: right;\n",
       "    }\n",
       "</style>\n",
       "<table border=\"1\" class=\"dataframe\">\n",
       "  <thead>\n",
       "    <tr style=\"text-align: right;\">\n",
       "      <th></th>\n",
       "      <th>generacion</th>\n",
       "      <th>peso</th>\n",
       "      <th>altura</th>\n",
       "      <th>hp</th>\n",
       "      <th>attack</th>\n",
       "      <th>defense</th>\n",
       "      <th>speed</th>\n",
       "      <th>s_attack</th>\n",
       "      <th>s_defense</th>\n",
       "    </tr>\n",
       "  </thead>\n",
       "  <tbody>\n",
       "    <tr>\n",
       "      <th>count</th>\n",
       "      <td>898.000000</td>\n",
       "      <td>898.000000</td>\n",
       "      <td>898.000000</td>\n",
       "      <td>898.000000</td>\n",
       "      <td>898.000000</td>\n",
       "      <td>898.000000</td>\n",
       "      <td>898.000000</td>\n",
       "      <td>898.000000</td>\n",
       "      <td>898.000000</td>\n",
       "    </tr>\n",
       "    <tr>\n",
       "      <th>mean</th>\n",
       "      <td>4.146993</td>\n",
       "      <td>639.700445</td>\n",
       "      <td>11.859688</td>\n",
       "      <td>69.031180</td>\n",
       "      <td>76.544543</td>\n",
       "      <td>71.886414</td>\n",
       "      <td>65.949889</td>\n",
       "      <td>69.681514</td>\n",
       "      <td>69.876392</td>\n",
       "    </tr>\n",
       "    <tr>\n",
       "      <th>std</th>\n",
       "      <td>2.248398</td>\n",
       "      <td>1194.302978</td>\n",
       "      <td>12.342218</td>\n",
       "      <td>26.213707</td>\n",
       "      <td>29.665559</td>\n",
       "      <td>29.536184</td>\n",
       "      <td>28.456596</td>\n",
       "      <td>29.372609</td>\n",
       "      <td>27.012142</td>\n",
       "    </tr>\n",
       "    <tr>\n",
       "      <th>min</th>\n",
       "      <td>1.000000</td>\n",
       "      <td>1.000000</td>\n",
       "      <td>1.000000</td>\n",
       "      <td>1.000000</td>\n",
       "      <td>5.000000</td>\n",
       "      <td>5.000000</td>\n",
       "      <td>5.000000</td>\n",
       "      <td>10.000000</td>\n",
       "      <td>20.000000</td>\n",
       "    </tr>\n",
       "    <tr>\n",
       "      <th>25%</th>\n",
       "      <td>2.000000</td>\n",
       "      <td>85.000000</td>\n",
       "      <td>5.000000</td>\n",
       "      <td>50.000000</td>\n",
       "      <td>55.000000</td>\n",
       "      <td>50.000000</td>\n",
       "      <td>45.000000</td>\n",
       "      <td>46.250000</td>\n",
       "      <td>50.000000</td>\n",
       "    </tr>\n",
       "    <tr>\n",
       "      <th>50%</th>\n",
       "      <td>4.000000</td>\n",
       "      <td>270.000000</td>\n",
       "      <td>10.000000</td>\n",
       "      <td>65.000000</td>\n",
       "      <td>75.000000</td>\n",
       "      <td>67.000000</td>\n",
       "      <td>65.000000</td>\n",
       "      <td>65.000000</td>\n",
       "      <td>65.000000</td>\n",
       "    </tr>\n",
       "    <tr>\n",
       "      <th>75%</th>\n",
       "      <td>6.000000</td>\n",
       "      <td>650.000000</td>\n",
       "      <td>15.000000</td>\n",
       "      <td>80.000000</td>\n",
       "      <td>95.000000</td>\n",
       "      <td>90.000000</td>\n",
       "      <td>85.000000</td>\n",
       "      <td>90.000000</td>\n",
       "      <td>85.000000</td>\n",
       "    </tr>\n",
       "    <tr>\n",
       "      <th>max</th>\n",
       "      <td>8.000000</td>\n",
       "      <td>9999.000000</td>\n",
       "      <td>200.000000</td>\n",
       "      <td>255.000000</td>\n",
       "      <td>181.000000</td>\n",
       "      <td>230.000000</td>\n",
       "      <td>200.000000</td>\n",
       "      <td>173.000000</td>\n",
       "      <td>230.000000</td>\n",
       "    </tr>\n",
       "  </tbody>\n",
       "</table>\n",
       "</div>"
      ],
      "text/plain": [
       "       generacion         peso      altura          hp      attack  \\\n",
       "count  898.000000   898.000000  898.000000  898.000000  898.000000   \n",
       "mean     4.146993   639.700445   11.859688   69.031180   76.544543   \n",
       "std      2.248398  1194.302978   12.342218   26.213707   29.665559   \n",
       "min      1.000000     1.000000    1.000000    1.000000    5.000000   \n",
       "25%      2.000000    85.000000    5.000000   50.000000   55.000000   \n",
       "50%      4.000000   270.000000   10.000000   65.000000   75.000000   \n",
       "75%      6.000000   650.000000   15.000000   80.000000   95.000000   \n",
       "max      8.000000  9999.000000  200.000000  255.000000  181.000000   \n",
       "\n",
       "          defense       speed    s_attack   s_defense  \n",
       "count  898.000000  898.000000  898.000000  898.000000  \n",
       "mean    71.886414   65.949889   69.681514   69.876392  \n",
       "std     29.536184   28.456596   29.372609   27.012142  \n",
       "min      5.000000    5.000000   10.000000   20.000000  \n",
       "25%     50.000000   45.000000   46.250000   50.000000  \n",
       "50%     67.000000   65.000000   65.000000   65.000000  \n",
       "75%     90.000000   85.000000   90.000000   85.000000  \n",
       "max    230.000000  200.000000  173.000000  230.000000  "
      ]
     },
     "execution_count": 6,
     "metadata": {},
     "output_type": "execute_result"
    }
   ],
   "source": [
    "pokemon.describe()"
   ]
  },
  {
   "cell_type": "code",
   "execution_count": 7,
   "metadata": {},
   "outputs": [
    {
     "data": {
      "image/png": "[encoded data removed]",
      "text/plain": [
       "<Figure size 576x576 with 2 Axes>"
      ]
     },
     "metadata": {
      "needs_background": "light"
     },
     "output_type": "display_data"
    }
   ],
   "source": [
    "plt.figure(figsize=(8,8));\n",
    "sns.heatmap(pokemon.corr(),annot=True);"
   ]
  },
  {
   "cell_type": "code",
   "execution_count": 15,
   "metadata": {},
   "outputs": [
    {
     "data": {
      "application/vnd.jupyter.widget-view+json": {
       "model_id": "aa3cadfccc3e492b8bbadf8c1987f160",
       "version_major": 2,
       "version_minor": 0
      },
      "text/plain": [
       "Summarize dataset:   0%|          | 0/5 [00:00<?, ?it/s]"
      ]
     },
     "metadata": {},
     "output_type": "display_data"
    },
    {
     "data": {
      "application/vnd.jupyter.widget-view+json": {
       "model_id": "88f0101c1cdb4699a231ffcbeceaabe9",
       "version_major": 2,
       "version_minor": 0
      },
      "text/plain": [
       "Generate report structure:   0%|          | 0/1 [00:00<?, ?it/s]"
      ]
     },
     "metadata": {},
     "output_type": "display_data"
    },
    {
     "data": {
      "application/vnd.jupyter.widget-view+json": {
       "model_id": "3ad218a02ee64032b5cc644d32b97b6f",
       "version_major": 2,
       "version_minor": 0
      },
      "text/plain": [
       "Render HTML:   0%|          | 0/1 [00:00<?, ?it/s]"
      ]
     },
     "metadata": {},
     "output_type": "display_data"
    },
    {
     "data": {
      "application/vnd.jupyter.widget-view+json": {
       "model_id": "f888cf6cb75944b4a3f2b538bc957084",
       "version_major": 2,
       "version_minor": 0
      },
      "text/plain": [
       "Export report to file:   0%|          | 0/1 [00:00<?, ?it/s]"
      ]
     },
     "metadata": {},
     "output_type": "display_data"
    }
   ],
   "source": [
    "profile = ProfileReport(pokemon, title=\"Pandas Profiling Report\", explorative=True)\n",
    "profile.to_file(\"utils/reports/pokemon_report.html\")"
   ]
  },
  {
   "cell_type": "code",
   "execution_count": 9,
   "metadata": {},
   "outputs": [
    {
     "name": "stderr",
     "output_type": "stream",
     "text": [
      "c:\\Users\\jamr1\\miniconda3\\envs\\eda\\lib\\site-packages\\seaborn\\_decorators.py:36: FutureWarning: Pass the following variables as keyword args: x, y. From version 0.12, the only valid positional argument will be `data`, and passing other arguments without an explicit keyword will result in an error or misinterpretation.\n",
      "  warnings.warn(\n"
     ]
    },
    {
     "data": {
      "image/png": "[encoded data removed]",
      "text/plain": [
       "<Figure size 1440x720 with 1 Axes>"
      ]
     },
     "metadata": {
      "needs_background": "light"
     },
     "output_type": "display_data"
    }
   ],
   "source": [
    "df = pokemon['tipo1'].value_counts();\n",
    "\n",
    "fig, ax = plt.subplots(1,1,figsize=(20,10));\n",
    "\n",
    "\n",
    "sns.barplot(df.index, df.values, ax=ax);\n",
    "\n",
    "ax.tick_params(labelsize=18, direction='out', pad=15);\n",
    "ax.set_xlabel('Tipo1', weight='bold', size='20', labelpad=15,);\n",
    "ax.set_ylabel('Total', weight='bold', size='20', labelpad=15);\n",
    "ax.set_title('Total de Pokémons por tipo1',  size='26', weight='bold', y=1.05);\n",
    "plt.xticks(rotation=45);"
   ]
  },
  {
   "cell_type": "code",
   "execution_count": 10,
   "metadata": {},
   "outputs": [
    {
     "data": {
      "text/html": [
       "<div>\n",
       "<style scoped>\n",
       "    .dataframe tbody tr th:only-of-type {\n",
       "        vertical-align: middle;\n",
       "    }\n",
       "\n",
       "    .dataframe tbody tr th {\n",
       "        vertical-align: top;\n",
       "    }\n",
       "\n",
       "    .dataframe thead th {\n",
       "        text-align: right;\n",
       "    }\n",
       "</style>\n",
       "<table border=\"1\" class=\"dataframe\">\n",
       "  <thead>\n",
       "    <tr style=\"text-align: right;\">\n",
       "      <th></th>\n",
       "      <th>nombre</th>\n",
       "      <th>generacion</th>\n",
       "      <th>peso</th>\n",
       "      <th>altura</th>\n",
       "      <th>tipo1</th>\n",
       "      <th>tipo2</th>\n",
       "      <th>hp</th>\n",
       "      <th>attack</th>\n",
       "      <th>defense</th>\n",
       "      <th>speed</th>\n",
       "      <th>s_attack</th>\n",
       "      <th>s_defense</th>\n",
       "    </tr>\n",
       "    <tr>\n",
       "      <th>id</th>\n",
       "      <th></th>\n",
       "      <th></th>\n",
       "      <th></th>\n",
       "      <th></th>\n",
       "      <th></th>\n",
       "      <th></th>\n",
       "      <th></th>\n",
       "      <th></th>\n",
       "      <th></th>\n",
       "      <th></th>\n",
       "      <th></th>\n",
       "      <th></th>\n",
       "    </tr>\n",
       "  </thead>\n",
       "  <tbody>\n",
       "    <tr>\n",
       "      <th>798</th>\n",
       "      <td>kartana</td>\n",
       "      <td>7</td>\n",
       "      <td>1</td>\n",
       "      <td>3</td>\n",
       "      <td>grass</td>\n",
       "      <td>steel</td>\n",
       "      <td>59</td>\n",
       "      <td>181</td>\n",
       "      <td>131</td>\n",
       "      <td>109</td>\n",
       "      <td>59</td>\n",
       "      <td>31</td>\n",
       "    </tr>\n",
       "  </tbody>\n",
       "</table>\n",
       "</div>"
      ],
      "text/plain": [
       "      nombre  generacion  peso  altura  tipo1  tipo2  hp  attack  defense  \\\n",
       "id                                                                          \n",
       "798  kartana           7     1       3  grass  steel  59     181      131   \n",
       "\n",
       "     speed  s_attack  s_defense  \n",
       "id                               \n",
       "798    109        59         31  "
      ]
     },
     "execution_count": 10,
     "metadata": {},
     "output_type": "execute_result"
    }
   ],
   "source": [
    "pokemon[pokemon['attack'] == pokemon['attack'].max()]"
   ]
  },
  {
   "cell_type": "code",
   "execution_count": 11,
   "metadata": {},
   "outputs": [],
   "source": [
    "pokemon.to_pickle('../data/processed/pokemon.pkl')"
   ]
  },
  {
   "cell_type": "markdown",
   "metadata": {},
   "source": [
    "# <a id='2'>2. Conclusiones</a>"
   ]
  },
  {
   "cell_type": "markdown",
   "metadata": {},
   "source": [
    "Podemos observar que al utilizar la API nos evitamos tener un dataset `\"sucio\"`, porque nosotros extraemos los datos que queremos y completamos los faltantes con el valor que queremos.\n",
    "\n",
    "Pôdemos concluir con los datos obtenidos:\n",
    "\n",
    "- Existen 898 Pokémon.\n",
    "- Peso máximo 200\n",
    "- Altura máxima 9999\n",
    "- El mapa de calor no nos muestra correlaciones altas\n",
    "- Con una simple gráfica podemos ver que el tipo agua es el más repetido, pero será para todas las generaciones?\n",
    "- Él Pokémon más poderoso es katarna??"
   ]
  }
 ],
 "metadata": {
  "interpreter": {
   "hash": "16d56b22d9d1a1a2483de6e72899c85476d243b94fedfce5c2d990baefa01dec"
  },
  "kernelspec": {
   "display_name": "Python 3.9.12 ('eda')",
   "language": "python",
   "name": "python3"
  },
  "language_info": {
   "codemirror_mode": {
    "name": "ipython",
    "version": 3
   },
   "file_extension": ".py",
   "mimetype": "text/x-python",
   "name": "python",
   "nbconvert_exporter": "python",
   "pygments_lexer": "ipython3",
   "version": "3.9.12"
  },
  "orig_nbformat": 4
 },
 "nbformat": 4,
 "nbformat_minor": 2
}
